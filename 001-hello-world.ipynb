{
 "cells": [
  {
   "cell_type": "code",
   "execution_count": 1,
   "id": "3214a0e2-e440-4d17-9826-27a1cb3ec8e3",
   "metadata": {},
   "outputs": [],
   "source": [
    "#!pip install -q -U google-generativeai"
   ]
  },
  {
   "cell_type": "code",
   "execution_count": 7,
   "id": "9663f1df-75c6-4854-819e-dc1faba51a00",
   "metadata": {},
   "outputs": [],
   "source": [
    "import google.generativeai as genai\n",
    "import os"
   ]
  },
  {
   "cell_type": "code",
   "execution_count": 8,
   "id": "ce302e10-9fd8-4d96-9a3e-00bdcc5bacbd",
   "metadata": {},
   "outputs": [],
   "source": [
    "genai.configure(api_key=os.getenv(\"GOOGLE_API_KEY\"))"
   ]
  },
  {
   "cell_type": "code",
   "execution_count": 9,
   "id": "5139d298-8b13-492b-a0d7-68c96d22e7ba",
   "metadata": {},
   "outputs": [
    {
     "name": "stdout",
     "output_type": "stream",
     "text": [
      "models/gemini-1.0-pro\n",
      "models/gemini-1.0-pro-001\n",
      "models/gemini-1.0-pro-latest\n",
      "models/gemini-1.0-pro-vision-latest\n",
      "models/gemini-1.5-flash\n",
      "models/gemini-1.5-flash-001\n",
      "models/gemini-1.5-flash-latest\n",
      "models/gemini-1.5-pro\n",
      "models/gemini-1.5-pro-001\n",
      "models/gemini-1.5-pro-latest\n",
      "models/gemini-pro\n",
      "models/gemini-pro-vision\n"
     ]
    }
   ],
   "source": [
    "for m in genai.list_models():\n",
    "    if 'generateContent' in m.supported_generation_methods:\n",
    "        print(m.name)"
   ]
  },
  {
   "cell_type": "code",
   "execution_count": 10,
   "id": "08cf1ede-a901-4d3a-a447-c68c8e90b681",
   "metadata": {},
   "outputs": [],
   "source": [
    "model = genai.GenerativeModel('gemini-1.5-flash')"
   ]
  },
  {
   "cell_type": "code",
   "execution_count": 11,
   "id": "e53f761b-913b-46fe-bd04-0caadc733a77",
   "metadata": {},
   "outputs": [],
   "source": [
    "response = model.generate_content(\"Olá, mundo!\")"
   ]
  },
  {
   "cell_type": "code",
   "execution_count": 12,
   "id": "14835743-0484-4651-b3f0-4f89db4ee19b",
   "metadata": {},
   "outputs": [
    {
     "name": "stdout",
     "output_type": "stream",
     "text": [
      "Olá, mundo! \n",
      "\n",
      "Como posso te ajudar hoje? \n",
      "\n"
     ]
    }
   ],
   "source": [
    "print(response.text)"
   ]
  },
  {
   "cell_type": "code",
   "execution_count": 13,
   "id": "59972229-961d-420e-b8ed-64243726cea3",
   "metadata": {},
   "outputs": [],
   "source": [
    "response = model.generate_content(\"Conte-me uma história engraçada\")"
   ]
  },
  {
   "cell_type": "code",
   "execution_count": 14,
   "id": "0296d90d-02ba-44eb-b22e-c915099413a9",
   "metadata": {},
   "outputs": [
    {
     "name": "stdout",
     "output_type": "stream",
     "text": [
      "Era uma vez, numa cidadezinha onde os moradores adoravam um bom chá, vivia um padeiro chamado Edgar. Edgar era conhecido por seus pães deliciosos, mas também por sua estranha mania de falar com os seus pães. \n",
      "\n",
      "Um dia, Edgar estava a preparar um novo lote de pães para o mercado, quando, de repente, um dos pães começou a falar! \"Oh, Edgar!\" exclamou o pão, \"Por favor, não me coloque naquele forno! Estou com medo do calor!\"\n",
      "\n",
      "Edgar arregalou os olhos, assustado. \"Você está falando, pão?\" perguntou, em voz baixa.\n",
      "\n",
      "\"Sim!\" respondeu o pão, \"E não quero ser assado! Quero ser um pão de sanduíche, não um torrado!\"\n",
      "\n",
      "Edgar ficou um pouco chocado, mas também achou a situação hilária. \"Um pão de sanduíche? Você quer dizer, um pão para um sanduíche?\"\n",
      "\n",
      "\"Sim, exatamente! Um sanduíche com queijo e tomate!\" gritou o pão.\n",
      "\n",
      "Edgar riu alto. \"Está bem, pão falante. Vou te fazer um sanduíche.\" \n",
      "\n",
      "Edgar preparou um sanduíche de queijo e tomate delicioso para o pão falante, e o pão, muito feliz, desfrutou de sua nova vida como um pão de sanduíche.\n",
      "\n",
      "No dia seguinte, a notícia sobre o pão falante se espalhou pela cidade. As pessoas começaram a chegar na padaria de Edgar, pedindo pães falantes. Edgar, com sua mania estranha de falar com os pães, conseguia fazer os pães falarem com as pessoas, contando piadas e histórias engraçadíssimas.\n",
      "\n",
      "A padaria de Edgar se tornou um lugar popular, com as pessoas rindo e se divertindo com os pães falantes. Edgar, o padeiro com uma mania estranha, finalmente encontrou o seu lugar no mundo, fazendo pessoas felizes com pães que falavam e riam! \n",
      "\n"
     ]
    }
   ],
   "source": [
    "print(response.text)"
   ]
  },
  {
   "cell_type": "code",
   "execution_count": null,
   "id": "bf902187-ae97-49c7-b16e-bad0d3b4a55e",
   "metadata": {},
   "outputs": [],
   "source": []
  }
 ],
 "metadata": {
  "kernelspec": {
   "display_name": "Python 3 (ipykernel)",
   "language": "python",
   "name": "python3"
  },
  "language_info": {
   "codemirror_mode": {
    "name": "ipython",
    "version": 3
   },
   "file_extension": ".py",
   "mimetype": "text/x-python",
   "name": "python",
   "nbconvert_exporter": "python",
   "pygments_lexer": "ipython3",
   "version": "3.11.3"
  }
 },
 "nbformat": 4,
 "nbformat_minor": 5
}
