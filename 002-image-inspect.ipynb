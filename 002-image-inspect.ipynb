{
 "cells": [
  {
   "cell_type": "code",
   "execution_count": null,
   "id": "3214a0e2-e440-4d17-9826-27a1cb3ec8e3",
   "metadata": {},
   "outputs": [],
   "source": [
    "#!pip install -q -U google-generativeai"
   ]
  },
  {
   "cell_type": "code",
   "execution_count": 1,
   "id": "9663f1df-75c6-4854-819e-dc1faba51a00",
   "metadata": {},
   "outputs": [],
   "source": [
    "import google.generativeai as genai\n",
    "import os"
   ]
  },
  {
   "cell_type": "code",
   "execution_count": 2,
   "id": "ce302e10-9fd8-4d96-9a3e-00bdcc5bacbd",
   "metadata": {},
   "outputs": [],
   "source": [
    "genai.configure(api_key=os.getenv(\"GOOGLE_API_KEY\"))"
   ]
  },
  {
   "cell_type": "code",
   "execution_count": 3,
   "id": "5139d298-8b13-492b-a0d7-68c96d22e7ba",
   "metadata": {},
   "outputs": [
    {
     "name": "stdout",
     "output_type": "stream",
     "text": [
      "models/gemini-1.0-pro\n",
      "models/gemini-1.0-pro-001\n",
      "models/gemini-1.0-pro-latest\n",
      "models/gemini-1.0-pro-vision-latest\n",
      "models/gemini-1.5-pro-latest\n",
      "models/gemini-pro\n",
      "models/gemini-pro-vision\n"
     ]
    }
   ],
   "source": [
    "for m in genai.list_models():\n",
    "    if 'generateContent' in m.supported_generation_methods:\n",
    "        print(m.name)"
   ]
  },
  {
   "cell_type": "code",
   "execution_count": 4,
   "id": "cf77a066-9bd7-45b6-8a04-194f553666b0",
   "metadata": {},
   "outputs": [],
   "source": [
    "model = genai.GenerativeModel('gemini-pro-vision')"
   ]
  },
  {
   "cell_type": "code",
   "execution_count": 5,
   "id": "b207024e-ea81-4b9f-8ca9-8bb95d372573",
   "metadata": {},
   "outputs": [],
   "source": [
    "from IPython.display import Image\n",
    "\n",
    "img = Image('images/image1.jpg')"
   ]
  },
  {
   "cell_type": "code",
   "execution_count": 6,
   "id": "53cf7991-3c76-4eaf-bbc7-d3cbce440b3c",
   "metadata": {},
   "outputs": [],
   "source": [
    "response = model.generate_content(img)"
   ]
  },
  {
   "cell_type": "code",
   "execution_count": 7,
   "id": "5850b385-240f-42e5-8340-6eab110f53f1",
   "metadata": {},
   "outputs": [
    {
     "name": "stdout",
     "output_type": "stream",
     "text": [
      " This is a photo of a very tall tree in a forest.\n"
     ]
    }
   ],
   "source": [
    "print(response.text)"
   ]
  },
  {
   "cell_type": "code",
   "execution_count": 8,
   "id": "0df4aaa0-90de-431e-8ed8-a2283ee3ed22",
   "metadata": {},
   "outputs": [],
   "source": [
    "response = model.generate_content([\"Descreva a imagem\", img], stream=True)\n",
    "response.resolve()"
   ]
  },
  {
   "cell_type": "code",
   "execution_count": 9,
   "id": "a821797a-a2eb-4c1a-a966-4f3c835def41",
   "metadata": {},
   "outputs": [
    {
     "name": "stdout",
     "output_type": "stream",
     "text": [
      " A imagem mostra uma árvore muito alta, com um tronco grosso e reto. A árvore está coberta de folhas verdes e há outras árvores ao redor dela. O céu está azul e há algumas nuvens brancas.\n"
     ]
    }
   ],
   "source": [
    "print(response.text)"
   ]
  },
  {
   "cell_type": "code",
   "execution_count": 10,
   "id": "0450fb75-bcf3-4c90-ac19-e065428b9822",
   "metadata": {},
   "outputs": [],
   "source": [
    "img = Image('images/image2.jpg')"
   ]
  },
  {
   "cell_type": "code",
   "execution_count": 11,
   "id": "dbf6f51c-12d8-4474-b192-1c36c98c9988",
   "metadata": {},
   "outputs": [],
   "source": [
    "response = model.generate_content([\"Que animal é esse e qual sua raça?\", img], stream=True)\n",
    "response.resolve()"
   ]
  },
  {
   "cell_type": "code",
   "execution_count": 12,
   "id": "fd6e93a0-0066-4171-b5e3-deb012a54b70",
   "metadata": {},
   "outputs": [
    {
     "name": "stdout",
     "output_type": "stream",
     "text": [
      " O animal da foto é um cachorro da raça Labrador Retriever.\n"
     ]
    }
   ],
   "source": [
    "print(response.text)"
   ]
  },
  {
   "cell_type": "code",
   "execution_count": null,
   "id": "eb27eed9-0d59-48af-9b0f-44e6ac29d2b5",
   "metadata": {},
   "outputs": [],
   "source": []
  }
 ],
 "metadata": {
  "kernelspec": {
   "display_name": "Python 3 (ipykernel)",
   "language": "python",
   "name": "python3"
  },
  "language_info": {
   "codemirror_mode": {
    "name": "ipython",
    "version": 3
   },
   "file_extension": ".py",
   "mimetype": "text/x-python",
   "name": "python",
   "nbconvert_exporter": "python",
   "pygments_lexer": "ipython3",
   "version": "3.10.12"
  }
 },
 "nbformat": 4,
 "nbformat_minor": 5
}
