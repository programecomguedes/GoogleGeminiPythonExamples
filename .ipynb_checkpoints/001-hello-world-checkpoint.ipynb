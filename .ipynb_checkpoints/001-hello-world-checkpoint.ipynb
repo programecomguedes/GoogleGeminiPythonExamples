{
 "cells": [
  {
   "cell_type": "code",
   "execution_count": 1,
   "id": "3214a0e2-e440-4d17-9826-27a1cb3ec8e3",
   "metadata": {},
   "outputs": [],
   "source": [
    "#!pip install -q -U google-generativeai"
   ]
  },
  {
   "cell_type": "code",
   "execution_count": 1,
   "id": "9663f1df-75c6-4854-819e-dc1faba51a00",
   "metadata": {},
   "outputs": [],
   "source": [
    "import google.generativeai as genai\n",
    "import os"
   ]
  },
  {
   "cell_type": "code",
   "execution_count": 2,
   "id": "ce302e10-9fd8-4d96-9a3e-00bdcc5bacbd",
   "metadata": {},
   "outputs": [],
   "source": [
    "genai.configure(api_key=os.getenv(\"GOOGLE_API_KEY\"))"
   ]
  },
  {
   "cell_type": "code",
   "execution_count": 3,
   "id": "5139d298-8b13-492b-a0d7-68c96d22e7ba",
   "metadata": {},
   "outputs": [
    {
     "name": "stdout",
     "output_type": "stream",
     "text": [
      "models/gemini-1.0-pro\n",
      "models/gemini-1.0-pro-001\n",
      "models/gemini-1.0-pro-latest\n",
      "models/gemini-1.0-pro-vision-latest\n",
      "models/gemini-1.5-pro-latest\n",
      "models/gemini-pro\n",
      "models/gemini-pro-vision\n"
     ]
    }
   ],
   "source": [
    "for m in genai.list_models():\n",
    "    if 'generateContent' in m.supported_generation_methods:\n",
    "        print(m.name)"
   ]
  },
  {
   "cell_type": "code",
   "execution_count": 4,
   "id": "08cf1ede-a901-4d3a-a447-c68c8e90b681",
   "metadata": {},
   "outputs": [],
   "source": [
    "model = genai.GenerativeModel('gemini-pro')"
   ]
  },
  {
   "cell_type": "code",
   "execution_count": 5,
   "id": "e53f761b-913b-46fe-bd04-0caadc733a77",
   "metadata": {},
   "outputs": [],
   "source": [
    "response = model.generate_content(\"Olá, mundo!\")"
   ]
  },
  {
   "cell_type": "code",
   "execution_count": 6,
   "id": "14835743-0484-4651-b3f0-4f89db4ee19b",
   "metadata": {},
   "outputs": [
    {
     "name": "stdout",
     "output_type": "stream",
     "text": [
      "Olá, mundo!\n"
     ]
    }
   ],
   "source": [
    "print(response.text)"
   ]
  },
  {
   "cell_type": "code",
   "execution_count": 7,
   "id": "59972229-961d-420e-b8ed-64243726cea3",
   "metadata": {},
   "outputs": [],
   "source": [
    "response = model.generate_content(\"Conte-me uma história engraçada\")"
   ]
  },
  {
   "cell_type": "code",
   "execution_count": 8,
   "id": "0296d90d-02ba-44eb-b22e-c915099413a9",
   "metadata": {},
   "outputs": [
    {
     "name": "stdout",
     "output_type": "stream",
     "text": [
      "Um homem entra em um açougue e diz ao açougueiro:\n",
      "\n",
      "\"Eu gostaria de comprar um quilo de linguiça.\"\n",
      "\n",
      "O açougueiro pega um pedaço de linguiça e o pesa. Então ele diz:\n",
      "\n",
      "\"Sinto muito, mas não posso vender um quilo de linguiça.\"\n",
      "\n",
      "\"Por que não?\", pergunta o homem.\n",
      "\n",
      "O açougueiro responde: \"Porque esta é a nossa 'mel'hor linguiça.\"\n"
     ]
    }
   ],
   "source": [
    "print(response.text)"
   ]
  },
  {
   "cell_type": "code",
   "execution_count": null,
   "id": "bf902187-ae97-49c7-b16e-bad0d3b4a55e",
   "metadata": {},
   "outputs": [],
   "source": []
  }
 ],
 "metadata": {
  "kernelspec": {
   "display_name": "Python 3 (ipykernel)",
   "language": "python",
   "name": "python3"
  },
  "language_info": {
   "codemirror_mode": {
    "name": "ipython",
    "version": 3
   },
   "file_extension": ".py",
   "mimetype": "text/x-python",
   "name": "python",
   "nbconvert_exporter": "python",
   "pygments_lexer": "ipython3",
   "version": "3.10.12"
  }
 },
 "nbformat": 4,
 "nbformat_minor": 5
}
