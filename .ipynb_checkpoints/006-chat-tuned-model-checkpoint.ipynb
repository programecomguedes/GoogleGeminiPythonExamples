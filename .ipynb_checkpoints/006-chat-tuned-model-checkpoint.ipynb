{
 "cells": [
  {
   "cell_type": "code",
   "execution_count": 1,
   "id": "9663f1df-75c6-4854-819e-dc1faba51a00",
   "metadata": {},
   "outputs": [],
   "source": [
    "import google.generativeai as genai\n",
    "from google.auth import default\n",
    "import os"
   ]
  },
  {
   "cell_type": "code",
   "execution_count": 2,
   "id": "ce302e10-9fd8-4d96-9a3e-00bdcc5bacbd",
   "metadata": {},
   "outputs": [],
   "source": [
    "# Definir a variável de ambiente (opcional, pode ser feito no código)\n",
    "os.environ[\"GOOGLE_APPLICATION_CREDENTIALS\"] = \"credential.json\""
   ]
  },
  {
   "cell_type": "code",
   "execution_count": 3,
   "id": "5139d298-8b13-492b-a0d7-68c96d22e7ba",
   "metadata": {},
   "outputs": [],
   "source": [
    "# Obter as credenciais\n",
    "credentials, project_id = default()"
   ]
  },
  {
   "cell_type": "code",
   "execution_count": 4,
   "id": "6ca8414c-e250-433d-8a55-f111a84fcb63",
   "metadata": {},
   "outputs": [],
   "source": [
    "# Inicializar o cliente do Google Generative AI\n",
    "genai.configure(credentials=credentials)"
   ]
  },
  {
   "cell_type": "code",
   "execution_count": 5,
   "id": "08cf1ede-a901-4d3a-a447-c68c8e90b681",
   "metadata": {},
   "outputs": [],
   "source": [
    "model = genai.GenerativeModel(model_name='tunedModels/generate-num-1225')"
   ]
  },
  {
   "cell_type": "code",
   "execution_count": 6,
   "id": "affbbfc9",
   "metadata": {},
   "outputs": [],
   "source": [
    "chat = model.start_chat(history=[])"
   ]
  },
  {
   "cell_type": "code",
   "execution_count": 7,
   "id": "87abf09b",
   "metadata": {},
   "outputs": [],
   "source": [
    "def send_message(user_message):\n",
    "    response = chat.send_message(user_message, stream=True)\n",
    "    for chunk in response:\n",
    "      print(chunk.text, end=\"\")\n",
    "    print(\"\\n\")"
   ]
  },
  {
   "cell_type": "code",
   "execution_count": 8,
   "id": "ec658cc5",
   "metadata": {},
   "outputs": [],
   "source": [
    "def start_chat():        \n",
    "    while True:\n",
    "        message = input(\"Digite uma mensagem: \")\n",
    "        if message == \"end\":\n",
    "            break\n",
    "        \n",
    "        send_message(message)    "
   ]
  },
  {
   "cell_type": "code",
   "execution_count": 9,
   "id": "b0f36b18",
   "metadata": {},
   "outputs": [
    {
     "name": "stdin",
     "output_type": "stream",
     "text": [
      "Digite uma mensagem:  55\n"
     ]
    },
    {
     "name": "stdout",
     "output_type": "stream",
     "text": [
      "56\n",
      "\n"
     ]
    },
    {
     "name": "stdin",
     "output_type": "stream",
     "text": [
      "Digite uma mensagem:  123455\n"
     ]
    },
    {
     "name": "stdout",
     "output_type": "stream",
     "text": [
      "123456\n",
      "\n"
     ]
    },
    {
     "name": "stdin",
     "output_type": "stream",
     "text": [
      "Digite uma mensagem:  four\n"
     ]
    },
    {
     "name": "stdout",
     "output_type": "stream",
     "text": [
      "five\n",
      "\n"
     ]
    },
    {
     "name": "stdin",
     "output_type": "stream",
     "text": [
      "Digite uma mensagem:  quatre\n"
     ]
    },
    {
     "name": "stdout",
     "output_type": "stream",
     "text": [
      "cinq\n",
      "\n"
     ]
    },
    {
     "name": "stdin",
     "output_type": "stream",
     "text": [
      "Digite uma mensagem:  III\n"
     ]
    },
    {
     "name": "stdout",
     "output_type": "stream",
     "text": [
      "IV\n",
      "\n"
     ]
    },
    {
     "name": "stdin",
     "output_type": "stream",
     "text": [
      "Digite uma mensagem:  '七'\n"
     ]
    },
    {
     "name": "stdout",
     "output_type": "stream",
     "text": [
      "'八'\n",
      "\n"
     ]
    },
    {
     "name": "stdin",
     "output_type": "stream",
     "text": [
      "Digite uma mensagem:  end\n"
     ]
    }
   ],
   "source": [
    "start_chat()"
   ]
  },
  {
   "cell_type": "code",
   "execution_count": 10,
   "id": "9991a293",
   "metadata": {},
   "outputs": [
    {
     "data": {
      "text/plain": [
       "[parts {\n",
       "   text: \"55\"\n",
       " }\n",
       " role: \"user\",\n",
       " parts {\n",
       "   text: \"56\"\n",
       " }\n",
       " role: \"model\",\n",
       " parts {\n",
       "   text: \"123455\"\n",
       " }\n",
       " role: \"user\",\n",
       " parts {\n",
       "   text: \"123456\"\n",
       " }\n",
       " role: \"model\",\n",
       " parts {\n",
       "   text: \"four\"\n",
       " }\n",
       " role: \"user\",\n",
       " parts {\n",
       "   text: \"five\"\n",
       " }\n",
       " role: \"model\",\n",
       " parts {\n",
       "   text: \"quatre\"\n",
       " }\n",
       " role: \"user\",\n",
       " parts {\n",
       "   text: \"cinq\"\n",
       " }\n",
       " role: \"model\",\n",
       " parts {\n",
       "   text: \"III\"\n",
       " }\n",
       " role: \"user\",\n",
       " parts {\n",
       "   text: \"IV\"\n",
       " }\n",
       " role: \"model\",\n",
       " parts {\n",
       "   text: \"\\'七\\'\"\n",
       " }\n",
       " role: \"user\",\n",
       " parts {\n",
       "   text: \"\\'八\\'\"\n",
       " }\n",
       " role: \"model\"]"
      ]
     },
     "execution_count": 10,
     "metadata": {},
     "output_type": "execute_result"
    }
   ],
   "source": [
    "chat.history"
   ]
  },
  {
   "cell_type": "code",
   "execution_count": null,
   "id": "5c353cbc",
   "metadata": {},
   "outputs": [],
   "source": []
  }
 ],
 "metadata": {
  "kernelspec": {
   "display_name": "Python 3 (ipykernel)",
   "language": "python",
   "name": "python3"
  },
  "language_info": {
   "codemirror_mode": {
    "name": "ipython",
    "version": 3
   },
   "file_extension": ".py",
   "mimetype": "text/x-python",
   "name": "python",
   "nbconvert_exporter": "python",
   "pygments_lexer": "ipython3",
   "version": "3.11.3"
  }
 },
 "nbformat": 4,
 "nbformat_minor": 5
}
