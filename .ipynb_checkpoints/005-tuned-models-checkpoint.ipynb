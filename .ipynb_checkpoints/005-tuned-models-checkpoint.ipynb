{
 "cells": [
  {
   "cell_type": "code",
   "execution_count": 28,
   "id": "c96e9da1-09ce-472a-aca2-316b6f4db8d6",
   "metadata": {},
   "outputs": [],
   "source": [
    "#!pip install seaborn"
   ]
  },
  {
   "cell_type": "code",
   "execution_count": 1,
   "id": "ad32d38f-8513-4d5e-a631-3b2fef944845",
   "metadata": {},
   "outputs": [],
   "source": [
    "import google.generativeai as genai\n",
    "from google.auth import default\n",
    "import os"
   ]
  },
  {
   "cell_type": "code",
   "execution_count": 4,
   "id": "ea5f2212-304a-482e-adfe-2dbff0b9a140",
   "metadata": {},
   "outputs": [],
   "source": [
    "# Definir a variável de ambiente (opcional, pode ser feito no código)\n",
    "os.environ[\"GOOGLE_APPLICATION_CREDENTIALS\"] = \"credential.json\""
   ]
  },
  {
   "cell_type": "code",
   "execution_count": 5,
   "id": "e1676850-9c6d-41f7-9c72-d527cf4696d6",
   "metadata": {},
   "outputs": [],
   "source": [
    "# Obter as credenciais\n",
    "credentials, project_id = default()"
   ]
  },
  {
   "cell_type": "code",
   "execution_count": 6,
   "id": "2b6626d5-f921-4e79-8db4-6aee74a3895c",
   "metadata": {},
   "outputs": [],
   "source": [
    "# Inicializar o cliente do Google Generative AI\n",
    "genai.configure(credentials=credentials)"
   ]
  },
  {
   "cell_type": "code",
   "execution_count": 14,
   "id": "c49d869e-c34b-4af0-b273-c6ee7adedbf7",
   "metadata": {},
   "outputs": [
    {
     "name": "stdout",
     "output_type": "stream",
     "text": [
      "tunedModels/generate-num-863\n"
     ]
    }
   ],
   "source": [
    "for i, m in zip(range(5), genai.list_tuned_models()):\n",
    "  print(m.name)"
   ]
  },
  {
   "cell_type": "code",
   "execution_count": 11,
   "id": "23ee4221-7aab-4726-87b5-b9a149b89ef3",
   "metadata": {},
   "outputs": [
    {
     "data": {
      "text/plain": [
       "Model(name='models/gemini-1.0-pro-001',\n",
       "      base_model_id='',\n",
       "      version='001',\n",
       "      display_name='Gemini 1.0 Pro 001 (Tuning)',\n",
       "      description=('The best model for scaling across a wide range of tasks. This is a stable '\n",
       "                   'model that supports tuning.'),\n",
       "      input_token_limit=30720,\n",
       "      output_token_limit=2048,\n",
       "      supported_generation_methods=['generateContent', 'countTokens', 'createTunedModel'],\n",
       "      temperature=0.9,\n",
       "      top_p=1.0,\n",
       "      top_k=None)"
      ]
     },
     "execution_count": 11,
     "metadata": {},
     "output_type": "execute_result"
    }
   ],
   "source": [
    "base_model = [\n",
    "    m for m in genai.list_models()\n",
    "    if \"createTunedModel\" in m.supported_generation_methods][0]\n",
    "base_model"
   ]
  },
  {
   "cell_type": "code",
   "execution_count": 13,
   "id": "c2cfd1e6-e0e9-4bd4-a420-df5695c0cc20",
   "metadata": {},
   "outputs": [],
   "source": [
    "import random\n",
    "\n",
    "name = f'generate-num-{random.randint(0,10000)}'\n",
    "operation = genai.create_tuned_model(\n",
    "    # You can use a tuned model here too. Set `source_model=\"tunedModels/...\"`\n",
    "    source_model=base_model.name,\n",
    "    training_data=[\n",
    "        {\n",
    "             'text_input': '1',\n",
    "             'output': '2',\n",
    "        },{\n",
    "             'text_input': '3',\n",
    "             'output': '4',\n",
    "        },{\n",
    "             'text_input': '-3',\n",
    "             'output': '-2',\n",
    "        },{\n",
    "             'text_input': 'twenty two',\n",
    "             'output': 'twenty three',\n",
    "        },{\n",
    "             'text_input': 'two hundred',\n",
    "             'output': 'two hundred one',\n",
    "        },{\n",
    "             'text_input': 'ninety nine',\n",
    "             'output': 'one hundred',\n",
    "        },{\n",
    "             'text_input': '8',\n",
    "             'output': '9',\n",
    "        },{\n",
    "             'text_input': '-98',\n",
    "             'output': '-97',\n",
    "        },{\n",
    "             'text_input': '1,000',\n",
    "             'output': '1,001',\n",
    "        },{\n",
    "             'text_input': '10,100,000',\n",
    "             'output': '10,100,001',\n",
    "        },{\n",
    "             'text_input': 'thirteen',\n",
    "             'output': 'fourteen',\n",
    "        },{\n",
    "             'text_input': 'eighty',\n",
    "             'output': 'eighty one',\n",
    "        },{\n",
    "             'text_input': 'one',\n",
    "             'output': 'two',\n",
    "        },{\n",
    "             'text_input': 'three',\n",
    "             'output': 'four',\n",
    "        },{\n",
    "             'text_input': 'seven',\n",
    "             'output': 'eight',\n",
    "        }\n",
    "    ],\n",
    "    id = name,\n",
    "    epoch_count = 100,\n",
    "    batch_size=4,\n",
    "    learning_rate=0.001,\n",
    ")"
   ]
  },
  {
   "cell_type": "code",
   "execution_count": 16,
   "id": "cc6caafc-2875-4f06-ada2-e45dfea74a22",
   "metadata": {},
   "outputs": [
    {
     "data": {
      "text/plain": [
       "TunedModel(name='tunedModels/generate-num-863',\n",
       "           source_model='models/gemini-1.0-pro-001',\n",
       "           base_model='models/gemini-1.0-pro-001',\n",
       "           display_name='',\n",
       "           description='',\n",
       "           temperature=0.9,\n",
       "           top_p=1.0,\n",
       "           top_k=0,\n",
       "           state=<State.CREATING: 1>,\n",
       "           create_time=datetime.datetime(2024, 5, 31, 14, 22, 27, 270034, tzinfo=datetime.timezone.utc),\n",
       "           update_time=datetime.datetime(2024, 5, 31, 14, 23, 29, 373417, tzinfo=datetime.timezone.utc),\n",
       "           tuning_task=TuningTask(start_time=datetime.datetime(2024, 5, 31, 14, 22, 27, 752569, tzinfo=datetime.timezone.utc),\n",
       "                                  complete_time=None,\n",
       "                                  snapshots=[...],\n",
       "                                  hyperparameters=Hyperparameters(epoch_count=100,\n",
       "                                                                  batch_size=4,\n",
       "                                                                  learning_rate=0.001)))"
      ]
     },
     "execution_count": 16,
     "metadata": {},
     "output_type": "execute_result"
    }
   ],
   "source": [
    "model = genai.get_tuned_model(f'tunedModels/{name}')\n",
    "\n",
    "model"
   ]
  },
  {
   "cell_type": "code",
   "execution_count": 30,
   "id": "a89670a4-88c0-4fea-90ce-4f485b772242",
   "metadata": {},
   "outputs": [
    {
     "data": {
      "text/plain": [
       "<State.CREATING: 1>"
      ]
     },
     "execution_count": 30,
     "metadata": {},
     "output_type": "execute_result"
    }
   ],
   "source": [
    "model.state"
   ]
  },
  {
   "cell_type": "code",
   "execution_count": 29,
   "id": "e1afa686-6913-4993-ab5a-52aec3fbe0dc",
   "metadata": {},
   "outputs": [],
   "source": [
    "#operation.metadata"
   ]
  },
  {
   "cell_type": "code",
   "execution_count": 21,
   "id": "f444683f-f164-4936-b5eb-e553f76b44ff",
   "metadata": {},
   "outputs": [
    {
     "data": {
      "application/vnd.jupyter.widget-view+json": {
       "model_id": "4ddcd30691e641c7a2aa2345df06dfb0",
       "version_major": 2,
       "version_minor": 0
      },
      "text/plain": [
       "  0%|          | 0/375 [00:00<?, ?it/s]"
      ]
     },
     "metadata": {},
     "output_type": "display_data"
    }
   ],
   "source": [
    "import time\n",
    "\n",
    "for status in operation.wait_bar():\n",
    "  time.sleep(30)"
   ]
  },
  {
   "cell_type": "code",
   "execution_count": 31,
   "id": "6d373c2c-34c9-480c-83c5-143973dd8f4d",
   "metadata": {},
   "outputs": [
    {
     "data": {
      "text/plain": [
       "<Axes: xlabel='epoch', ylabel='mean_loss'>"
      ]
     },
     "execution_count": 31,
     "metadata": {},
     "output_type": "execute_result"
    },
    {
     "data": {
      "image/png": "[encoded data removed]",
      "text/plain": [
       "<Figure size 640x480 with 1 Axes>"
      ]
     },
     "metadata": {},
     "output_type": "display_data"
    }
   ],
   "source": [
    "import pandas as pd\n",
    "import seaborn as sns\n",
    "\n",
    "model = operation.result()\n",
    "\n",
    "snapshots = pd.DataFrame(model.tuning_task.snapshots)\n",
    "\n",
    "sns.lineplot(data=snapshots, x = 'epoch', y='mean_loss')"
   ]
  },
  {
   "cell_type": "code",
   "execution_count": 32,
   "id": "bb2e9a99-0e6b-426c-a588-02b5c2d0617a",
   "metadata": {},
   "outputs": [],
   "source": [
    "model = genai.GenerativeModel(model_name=f'tunedModels/{name}')"
   ]
  },
  {
   "cell_type": "code",
   "execution_count": 33,
   "id": "17c273ca-0119-45ed-ad81-facd650a19d3",
   "metadata": {},
   "outputs": [
    {
     "data": {
      "text/plain": [
       "'56'"
      ]
     },
     "execution_count": 33,
     "metadata": {},
     "output_type": "execute_result"
    }
   ],
   "source": [
    "result = model.generate_content('55')\n",
    "result.text"
   ]
  },
  {
   "cell_type": "code",
   "execution_count": 34,
   "id": "a9c5f4cc-0b90-494c-a5c6-8a66599de8ac",
   "metadata": {},
   "outputs": [
    {
     "data": {
      "text/plain": [
       "'123456'"
      ]
     },
     "execution_count": 34,
     "metadata": {},
     "output_type": "execute_result"
    }
   ],
   "source": [
    "result = model.generate_content('123455')\n",
    "result.text"
   ]
  },
  {
   "cell_type": "code",
   "execution_count": 35,
   "id": "c55f4469-3bc2-442e-b537-64b0cc63c588",
   "metadata": {},
   "outputs": [
    {
     "data": {
      "text/plain": [
       "'five'"
      ]
     },
     "execution_count": 35,
     "metadata": {},
     "output_type": "execute_result"
    }
   ],
   "source": [
    "result = model.generate_content('four')\n",
    "result.text"
   ]
  },
  {
   "cell_type": "code",
   "execution_count": 36,
   "id": "09b5047f-5faa-453e-865e-cd0eb69b6bc5",
   "metadata": {},
   "outputs": [
    {
     "data": {
      "text/plain": [
       "'cinq'"
      ]
     },
     "execution_count": 36,
     "metadata": {},
     "output_type": "execute_result"
    }
   ],
   "source": [
    "result = model.generate_content('quatre') # French 4\n",
    "result.text                               # French 5 is \"cinq\""
   ]
  },
  {
   "cell_type": "code",
   "execution_count": 37,
   "id": "34f888fb-2387-45af-8919-6c158aa1b42a",
   "metadata": {},
   "outputs": [
    {
     "data": {
      "text/plain": [
       "'IV'"
      ]
     },
     "execution_count": 37,
     "metadata": {},
     "output_type": "execute_result"
    }
   ],
   "source": [
    "result = model.generate_content('III')    # Roman numeral 3\n",
    "result.text                               # Roman numeral 4 is IV"
   ]
  },
  {
   "cell_type": "code",
   "execution_count": 38,
   "id": "7355f77c-ee0d-4f38-a14b-f378c503ddd4",
   "metadata": {},
   "outputs": [
    {
     "data": {
      "text/plain": [
       "'八'"
      ]
     },
     "execution_count": 38,
     "metadata": {},
     "output_type": "execute_result"
    }
   ],
   "source": [
    "result = model.generate_content('七')  # Japanese 7\n",
    "result.text                            # Japanese 8 is 八!"
   ]
  },
  {
   "cell_type": "code",
   "execution_count": 41,
   "id": "5c87492d-e10a-4b30-a936-c73c0383de8c",
   "metadata": {},
   "outputs": [
    {
     "data": {
      "text/plain": [
       "'This is my model.'"
      ]
     },
     "execution_count": 41,
     "metadata": {},
     "output_type": "execute_result"
    }
   ],
   "source": [
    "genai.update_tuned_model(f'tunedModels/{name}', {\"description\":\"This is my model.\"});\n",
    "model = genai.get_tuned_model(f'tunedModels/{name}')\n",
    "\n",
    "model.description"
   ]
  },
  {
   "cell_type": "code",
   "execution_count": 43,
   "id": "5b5fc818-13e1-4fd2-95f4-11756a6ecaa7",
   "metadata": {},
   "outputs": [],
   "source": [
    "genai.delete_tuned_model(f'tunedModels/{name}')"
   ]
  },
  {
   "cell_type": "code",
   "execution_count": 44,
   "id": "b78d4b90-3784-4ede-92d5-1a40d5b7c48c",
   "metadata": {},
   "outputs": [
    {
     "name": "stdout",
     "output_type": "stream",
     "text": [
      "<class 'google.api_core.exceptions.NotFound'>: 404 Tuned model tunedModels/generate-num-863 does not exist.\n"
     ]
    }
   ],
   "source": [
    "try:\n",
    "  m = genai.get_tuned_model(f'tunedModels/{name}')\n",
    "  print(m)\n",
    "except Exception as e:\n",
    "  print(f\"{type(e)}: {e}\")"
   ]
  },
  {
   "cell_type": "code",
   "execution_count": null,
   "id": "0d95a92b-442e-42ea-898b-db99ed291db3",
   "metadata": {},
   "outputs": [],
   "source": []
  }
 ],
 "metadata": {
  "kernelspec": {
   "display_name": "Python 3 (ipykernel)",
   "language": "python",
   "name": "python3"
  },
  "language_info": {
   "codemirror_mode": {
    "name": "ipython",
    "version": 3
   },
   "file_extension": ".py",
   "mimetype": "text/x-python",
   "name": "python",
   "nbconvert_exporter": "python",
   "pygments_lexer": "ipython3",
   "version": "3.11.3"
  }
 },
 "nbformat": 4,
 "nbformat_minor": 5
}
