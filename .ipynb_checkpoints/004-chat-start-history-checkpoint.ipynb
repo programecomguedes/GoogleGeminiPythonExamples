{
 "cells": [
  {
   "cell_type": "code",
   "execution_count": null,
   "id": "3214a0e2-e440-4d17-9826-27a1cb3ec8e3",
   "metadata": {},
   "outputs": [],
   "source": [
    "#!pip install -q -U google-generativeai"
   ]
  },
  {
   "cell_type": "code",
   "execution_count": null,
   "id": "9663f1df-75c6-4854-819e-dc1faba51a00",
   "metadata": {},
   "outputs": [],
   "source": [
    "import google.generativeai as genai\n",
    "import os"
   ]
  },
  {
   "cell_type": "code",
   "execution_count": null,
   "id": "ce302e10-9fd8-4d96-9a3e-00bdcc5bacbd",
   "metadata": {},
   "outputs": [],
   "source": [
    "genai.configure(api_key=os.getenv(\"GOOGLE_API_KEY\"))"
   ]
  },
  {
   "cell_type": "code",
   "execution_count": null,
   "id": "5139d298-8b13-492b-a0d7-68c96d22e7ba",
   "metadata": {},
   "outputs": [],
   "source": [
    "for m in genai.list_models():\n",
    "    if 'generateContent' in m.supported_generation_methods:\n",
    "        print(m.name)"
   ]
  },
  {
   "cell_type": "code",
   "execution_count": null,
   "id": "08cf1ede-a901-4d3a-a447-c68c8e90b681",
   "metadata": {},
   "outputs": [],
   "source": [
    "model = genai.GenerativeModel(\n",
    "    model_name=\"gemini-1.5-flash\"\n",
    ")"
   ]
  },
  {
   "cell_type": "code",
   "execution_count": null,
   "id": "ba9e1dcc",
   "metadata": {},
   "outputs": [],
   "source": [
    "start_history = [\n",
    "    {\n",
    "        \"parts\": [{\"text\": \"Complete com o próximo valor da sequência numérica: 1\"}],\n",
    "        \"role\": \"user\"\n",
    "    },\n",
    "    {\n",
    "        \"parts\": [{\"text\": \"2\"}],\n",
    "        \"role\": \"model\"\n",
    "    },\n",
    "    {\n",
    "        \"parts\": [{\"text\": \"3\"}],\n",
    "        \"role\": \"user\"\n",
    "    },\n",
    "    {\n",
    "        \"parts\": [{\"text\": \"4\"}],\n",
    "        \"role\": \"model\"\n",
    "    },\n",
    "]"
   ]
  },
  {
   "cell_type": "code",
   "execution_count": null,
   "id": "affbbfc9",
   "metadata": {},
   "outputs": [],
   "source": [
    "chat = model.start_chat(history=start_history)"
   ]
  },
  {
   "cell_type": "code",
   "execution_count": null,
   "id": "87abf09b",
   "metadata": {},
   "outputs": [],
   "source": [
    "def send_message(user_message):\n",
    "    response = chat.send_message(user_message, stream=True)\n",
    "    for chunk in response:\n",
    "      print(chunk.text, end=\"\")\n",
    "    print(\"\\n\")"
   ]
  },
  {
   "cell_type": "code",
   "execution_count": null,
   "id": "ec658cc5",
   "metadata": {},
   "outputs": [],
   "source": [
    "def start_chat():        \n",
    "    while True:\n",
    "        message = input(\"Digite uma mensagem: \")\n",
    "        print(\"\\n\")\n",
    "        print()\n",
    "        send_message(message)\n",
    "        if (message.lower().startswith(\"obrigad\")):\n",
    "            break        "
   ]
  },
  {
   "cell_type": "code",
   "execution_count": null,
   "id": "b0f36b18",
   "metadata": {},
   "outputs": [],
   "source": [
    "start_chat()"
   ]
  },
  {
   "cell_type": "code",
   "execution_count": null,
   "id": "9991a293",
   "metadata": {},
   "outputs": [],
   "source": [
    "chat.history"
   ]
  },
  {
   "cell_type": "code",
   "execution_count": null,
   "id": "7deb97e3",
   "metadata": {},
   "outputs": [],
   "source": [
    "model.count_tokens(chat.history)"
   ]
  },
  {
   "cell_type": "code",
   "execution_count": null,
   "id": "5c353cbc",
   "metadata": {},
   "outputs": [],
   "source": []
  }
 ],
 "metadata": {
  "kernelspec": {
   "display_name": "Python 3 (ipykernel)",
   "language": "python",
   "name": "python3"
  },
  "language_info": {
   "codemirror_mode": {
    "name": "ipython",
    "version": 3
   },
   "file_extension": ".py",
   "mimetype": "text/x-python",
   "name": "python",
   "nbconvert_exporter": "python",
   "pygments_lexer": "ipython3",
   "version": "3.11.3"
  }
 },
 "nbformat": 4,
 "nbformat_minor": 5
}
