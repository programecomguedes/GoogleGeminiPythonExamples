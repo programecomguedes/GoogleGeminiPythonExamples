{
 "cells": [
  {
   "cell_type": "code",
   "execution_count": 1,
   "id": "742398fa-842b-4706-bd08-b147bde4134b",
   "metadata": {},
   "outputs": [],
   "source": [
    "#!pip install -q -U google-generativeai"
   ]
  },
  {
   "cell_type": "code",
   "execution_count": 2,
   "id": "99c38ce4-4cde-4760-b0aa-1fddf36d7fd8",
   "metadata": {},
   "outputs": [],
   "source": [
    "import google.generativeai as genai\n",
    "import os"
   ]
  },
  {
   "cell_type": "code",
   "execution_count": 5,
   "id": "9aa5ea44-5b87-4801-85e6-33324a6c1da7",
   "metadata": {},
   "outputs": [],
   "source": [
    "genai.configure(api_key=os.getenv(\"GOOGLE_API_KEY\"))"
   ]
  },
  {
   "cell_type": "code",
   "execution_count": 6,
   "id": "45be79a7-eef8-4868-b76f-cb75d26e7acc",
   "metadata": {},
   "outputs": [
    {
     "name": "stdout",
     "output_type": "stream",
     "text": [
      "models/gemini-1.0-pro\n",
      "models/gemini-1.0-pro-001\n",
      "models/gemini-1.0-pro-latest\n",
      "models/gemini-1.0-pro-vision-latest\n",
      "models/gemini-1.5-flash\n",
      "models/gemini-1.5-flash-001\n",
      "models/gemini-1.5-flash-latest\n",
      "models/gemini-1.5-pro\n",
      "models/gemini-1.5-pro-001\n",
      "models/gemini-1.5-pro-latest\n",
      "models/gemini-pro\n",
      "models/gemini-pro-vision\n"
     ]
    }
   ],
   "source": [
    "for m in genai.list_models():\n",
    "    if 'generateContent' in m.supported_generation_methods:\n",
    "        print(m.name)"
   ]
  },
  {
   "cell_type": "code",
   "execution_count": 7,
   "id": "988b7749-ce19-4bf9-a615-b6d5e9045d8a",
   "metadata": {},
   "outputs": [],
   "source": [
    "model = genai.GenerativeModel('gemini-1.5-flash')"
   ]
  },
  {
   "cell_type": "code",
   "execution_count": 8,
   "id": "8e84c2d0-af1a-4330-8372-a15c0310229f",
   "metadata": {},
   "outputs": [
    {
     "name": "stdout",
     "output_type": "stream",
     "text": [
      "O áudio fala sobre a API do Google Gemini, descrevendo-a como uma ferramenta avançada de inteligência artificial desenvolvida pela Google. Projetada para oferecer capacidades sofisticadas de NLP e visão computacional, a API do Gemini permite que desenvolvedores integrem funcionalidades de IA em suas aplicações. \n",
      "\n"
     ]
    }
   ],
   "source": [
    "audio = genai.upload_file(path='files/audio1.wav')\n",
    "response = model.generate_content([\"Descreva detalhadamente, em português, o que está sendo falado no audio\", audio])\n",
    "print(response.text)"
   ]
  },
  {
   "cell_type": "code",
   "execution_count": 9,
   "id": "1d328824-582b-4c02-b0d9-f489d9f62611",
   "metadata": {},
   "outputs": [
    {
     "name": "stdout",
     "output_type": "stream",
     "text": [
      "The Google Gemini API is an advanced artificial intelligence tool developed by Google, designed to offer sophisticated capabilities of NLP and computer vision. The Gemini API enables developers to integrate AI functionalities into their applications. \n"
     ]
    }
   ],
   "source": [
    "audio = genai.upload_file(path='files/audio1.wav')\n",
    "response = model.generate_content([\"Traduza para inglês o conteúdo deste audio\", audio])\n",
    "print(response.text)"
   ]
  },
  {
   "cell_type": "code",
   "execution_count": 10,
   "id": "dac29093-15ff-4057-89c1-d983884c3c84",
   "metadata": {},
   "outputs": [],
   "source": [
    "video = genai.upload_file(path='files/video1.mp4')"
   ]
  },
  {
   "cell_type": "code",
   "execution_count": 11,
   "id": "ba461a1c-a623-474b-bc42-d5f3de91e88e",
   "metadata": {},
   "outputs": [
    {
     "name": "stdout",
     "output_type": "stream",
     "text": [
      ".\n",
      "upload concluido com sucesso\n"
     ]
    }
   ],
   "source": [
    "import time\n",
    "\n",
    "while video.state.name == 'PROCESSING':\n",
    "  print('.', end=\"\")\n",
    "\n",
    "  time.sleep(10)\n",
    "  video = genai.get_file(video.name)\n",
    "\n",
    "print('\\nupload concluido com sucesso')"
   ]
  },
  {
   "cell_type": "code",
   "execution_count": 12,
   "id": "9cfbc152-eaad-4c7d-94a5-ce9b396f30ed",
   "metadata": {},
   "outputs": [
    {
     "name": "stdout",
     "output_type": "stream",
     "text": [
      "O vídeo mostra um coelho gordo chamado Big Buck Bunny que está em um campo verdejante. Ele está dormindo e acorda com o canto de um pássaro. O coelho sai da sua toca e fica olhando para o céu, admirado com a natureza ao seu redor. De repente, ele vê três esquilos: um esquilo normal, um esquilo voador e um chinchila. Os esquilos estão rindo do coelho e o chamam de \"coelhinho gordo\". O coelho fica bravo e tenta pegar os esquilos. Ele encontra uma mangueira e tenta pegar as mangas, mas os esquilos jogam pedras nele. Então, o coelho decide se vingar dos esquilos e faz um arco e flecha com os galhos da mangueira. Ele atira uma flecha nos esquilos, mas erra e a flecha acerta o tronco da árvore. O coelho fica frustrado e decide usar a sua inteligência para pegar os esquilos. Ele usa uma videira como corda para fazer uma armadilha para o esquilo voador. Quando o esquilo voador fica preso na armadilha, o coelho o segura e fica feliz por ter pegado um dos esquilos. \n",
      "\n"
     ]
    }
   ],
   "source": [
    "prompt = \"Faça um breve resumo, em português, do que ocorre no video\"\n",
    "response = model.generate_content([prompt, video])\n",
    "print(response.text)"
   ]
  },
  {
   "cell_type": "code",
   "execution_count": 13,
   "id": "1359a27c-4f81-4ce9-a4e4-3ec72fd209ad",
   "metadata": {},
   "outputs": [
    {
     "name": "stdout",
     "output_type": "stream",
     "text": [
      "O vídeo foi produzido por The Peach Open Movie Project. \n",
      "\n"
     ]
    }
   ],
   "source": [
    "prompt = \"O vídeo foi produzido por: \"\n",
    "response = model.generate_content([prompt, video])\n",
    "print(response.text)"
   ]
  },
  {
   "cell_type": "code",
   "execution_count": 14,
   "id": "8098403a-accc-4e6b-82c6-ff561e8aec24",
   "metadata": {},
   "outputs": [
    {
     "name": "stdout",
     "output_type": "stream",
     "text": [
      "04:24 \n",
      "\n"
     ]
    }
   ],
   "source": [
    "prompt = \"\"\"Em que momento, exatamente, o coelho gordo verifica, com o dedo, se a lança está afiada?\n",
    "Responda no formato MM:ss.\n",
    "Exemplo: 00:01\"\"\"\n",
    "response = model.generate_content([prompt, video])\n",
    "print(response.text)"
   ]
  },
  {
   "cell_type": "code",
   "execution_count": 15,
   "id": "f6a5a290-18ca-4fe7-9ff0-38e50bf22edc",
   "metadata": {},
   "outputs": [
    {
     "name": "stdout",
     "output_type": "stream",
     "text": [
      "O arquivo files/3q8bahq4mqp5 foi excluído com sucesso.\n",
      "O arquivo files/qpwe3a7fnb23 foi excluído com sucesso.\n",
      "O arquivo files/8axzyvo0hkbx foi excluído com sucesso.\n"
     ]
    }
   ],
   "source": [
    "for file in genai.list_files():\n",
    "  genai.delete_file(file.name)\n",
    "  print(f'O arquivo {file.name} foi excluído com sucesso.')"
   ]
  },
  {
   "cell_type": "code",
   "execution_count": null,
   "id": "566ac6d1-7281-4553-a4b6-12e70c976683",
   "metadata": {},
   "outputs": [],
   "source": []
  }
 ],
 "metadata": {
  "kernelspec": {
   "display_name": "Python 3 (ipykernel)",
   "language": "python",
   "name": "python3"
  },
  "language_info": {
   "codemirror_mode": {
    "name": "ipython",
    "version": 3
   },
   "file_extension": ".py",
   "mimetype": "text/x-python",
   "name": "python",
   "nbconvert_exporter": "python",
   "pygments_lexer": "ipython3",
   "version": "3.11.3"
  }
 },
 "nbformat": 4,
 "nbformat_minor": 5
}
